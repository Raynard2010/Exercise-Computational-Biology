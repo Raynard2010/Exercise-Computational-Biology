{
  "nbformat": 4,
  "nbformat_minor": 0,
  "metadata": {
    "colab": {
      "provenance": []
    },
    "kernelspec": {
      "name": "python3",
      "display_name": "Python 3"
    },
    "language_info": {
      "name": "python"
    }
  },
  "cells": [
    {
      "cell_type": "code",
      "execution_count": null,
      "metadata": {
        "id": "aC4hPG6nN1lr",
        "outputId": "3db3ada7-7ee1-44e9-8054-c27789ec9a04",
        "colab": {
          "base_uri": "https://localhost:8080/",
          "height": 558
        }
      },
      "outputs": [
        {
          "output_type": "error",
          "ename": "ModuleNotFoundError",
          "evalue": "No module named 'Bio'",
          "traceback": [
            "\u001b[0;31m---------------------------------------------------------------------------\u001b[0m",
            "\u001b[0;31mModuleNotFoundError\u001b[0m                       Traceback (most recent call last)",
            "\u001b[0;32m<ipython-input-2-54104beb8f0e>\u001b[0m in \u001b[0;36m<cell line: 0>\u001b[0;34m()\u001b[0m\n\u001b[0;32m----> 1\u001b[0;31m \u001b[0;32mimport\u001b[0m \u001b[0mBio\u001b[0m\u001b[0;34m\u001b[0m\u001b[0;34m\u001b[0m\u001b[0m\n\u001b[0m\u001b[1;32m      2\u001b[0m \u001b[0;32mfrom\u001b[0m \u001b[0mBio\u001b[0m\u001b[0;34m.\u001b[0m\u001b[0mSeq\u001b[0m \u001b[0;32mimport\u001b[0m \u001b[0mSeq\u001b[0m\u001b[0;34m\u001b[0m\u001b[0;34m\u001b[0m\u001b[0m\n\u001b[1;32m      3\u001b[0m \u001b[0;32mfrom\u001b[0m \u001b[0mBio\u001b[0m \u001b[0;32mimport\u001b[0m \u001b[0mSeqIO\u001b[0m\u001b[0;34m\u001b[0m\u001b[0;34m\u001b[0m\u001b[0m\n",
            "\u001b[0;31mModuleNotFoundError\u001b[0m: No module named 'Bio'",
            "",
            "\u001b[0;31m---------------------------------------------------------------------------\u001b[0;32m\nNOTE: If your import is failing due to a missing package, you can\nmanually install dependencies using either !pip or !apt.\n\nTo view examples of installing some common dependencies, click the\n\"Open Examples\" button below.\n\u001b[0;31m---------------------------------------------------------------------------\u001b[0m\n"
          ],
          "errorDetails": {
            "actions": [
              {
                "action": "open_url",
                "actionText": "Open Examples",
                "url": "/notebooks/snippets/importing_libraries.ipynb"
              }
            ]
          }
        }
      ],
      "source": [
        "import Bio\n",
        "from Bio.Seq import Seq\n",
        "from Bio import SeqIO"
      ]
    },
    {
      "cell_type": "code",
      "source": [
        "seqA = SeqIO.read('a.fasta', 'fasta')\n",
        "seqB = SeqIO.read('b.fasta', 'fasta')\n",
        "\n",
        "seqA = seqA.seq\n",
        "seqB = seqB.seq\n",
        "\n",
        "print(seqA)\n",
        "print(seqB)"
      ],
      "metadata": {
        "id": "mMLkCU7LOV-J"
      },
      "execution_count": null,
      "outputs": []
    },
    {
      "cell_type": "code",
      "source": [
        "print(\"Total length of A: \", len(seqA))\n",
        "print(\"Total length of B: \", len(seqB))\n",
        "\n",
        "print(\"TAC index of SeqA: \", seqA.find(\"TAC\"))\n",
        "print(\"TAC index of SeqB: \", seqB.find(\"TAC\"))\n",
        "\n",
        "seqA_sliced = seqA[:10]\n",
        "seqB_sliced = seqB[-15:]\n",
        "\n",
        "seqC = (seqA_sliced + seqB_sliced)[::-1]\n",
        "print(\"Sequence C: \", seqC)"
      ],
      "metadata": {
        "colab": {
          "base_uri": "https://localhost:8080/",
          "height": 367
        },
        "id": "EwUShsVCPXtG",
        "outputId": "1f7e7e7d-d9fd-4eb9-9f2d-bba7ebeacc30"
      },
      "execution_count": null,
      "outputs": [
        {
          "output_type": "error",
          "ename": "NameError",
          "evalue": "name 'seqA' is not defined",
          "traceback": [
            "\u001b[0;31m---------------------------------------------------------------------------\u001b[0m",
            "\u001b[0;31mNameError\u001b[0m                                 Traceback (most recent call last)",
            "\u001b[0;32m<ipython-input-3-0c8ae9ca885b>\u001b[0m in \u001b[0;36m<cell line: 0>\u001b[0;34m()\u001b[0m\n\u001b[0;32m----> 1\u001b[0;31m \u001b[0mprint\u001b[0m\u001b[0;34m(\u001b[0m\u001b[0;34m\"Total length of A: \"\u001b[0m\u001b[0;34m,\u001b[0m \u001b[0mlen\u001b[0m\u001b[0;34m(\u001b[0m\u001b[0mseqA\u001b[0m\u001b[0;34m)\u001b[0m\u001b[0;34m)\u001b[0m\u001b[0;34m\u001b[0m\u001b[0;34m\u001b[0m\u001b[0m\n\u001b[0m\u001b[1;32m      2\u001b[0m \u001b[0mprint\u001b[0m\u001b[0;34m(\u001b[0m\u001b[0;34m\"Total length of B: \"\u001b[0m\u001b[0;34m,\u001b[0m \u001b[0mlen\u001b[0m\u001b[0;34m(\u001b[0m\u001b[0mseqB\u001b[0m\u001b[0;34m)\u001b[0m\u001b[0;34m)\u001b[0m\u001b[0;34m\u001b[0m\u001b[0;34m\u001b[0m\u001b[0m\n\u001b[1;32m      3\u001b[0m \u001b[0;34m\u001b[0m\u001b[0m\n\u001b[1;32m      4\u001b[0m \u001b[0mprint\u001b[0m\u001b[0;34m(\u001b[0m\u001b[0;34m\"TAC index of SeqA: \"\u001b[0m\u001b[0;34m,\u001b[0m \u001b[0mseqA\u001b[0m\u001b[0;34m.\u001b[0m\u001b[0mfind\u001b[0m\u001b[0;34m(\u001b[0m\u001b[0;34m\"TAC\"\u001b[0m\u001b[0;34m)\u001b[0m\u001b[0;34m)\u001b[0m\u001b[0;34m\u001b[0m\u001b[0;34m\u001b[0m\u001b[0m\n\u001b[1;32m      5\u001b[0m \u001b[0mprint\u001b[0m\u001b[0;34m(\u001b[0m\u001b[0;34m\"TAC index of SeqB: \"\u001b[0m\u001b[0;34m,\u001b[0m \u001b[0mseqB\u001b[0m\u001b[0;34m.\u001b[0m\u001b[0mfind\u001b[0m\u001b[0;34m(\u001b[0m\u001b[0;34m\"TAC\"\u001b[0m\u001b[0;34m)\u001b[0m\u001b[0;34m)\u001b[0m\u001b[0;34m\u001b[0m\u001b[0;34m\u001b[0m\u001b[0m\n",
            "\u001b[0;31mNameError\u001b[0m: name 'seqA' is not defined"
          ]
        }
      ]
    },
    {
      "cell_type": "code",
      "source": [
        "import matplotlib.pyplot as plt\n",
        "from collections import Counter\n",
        "\n",
        "seqA_freq = Counter(seqA)\n",
        "seqB_freq = Counter(seqB)\n",
        "seqC_freq = Counter(seqC)\n",
        "\n",
        "plt.title(\"Nucleotide base frequency for Sequence A\")\n",
        "plt.bar(seqA_freq.keys(), seqA_freq.values())\n",
        "plt.show()\n",
        "\n",
        "plt.title(\"Nucleotide base frequency for Sequence B\")\n",
        "plt.bar(seqB_freq.keys(), seqB_freq.values())\n",
        "plt.show()\n",
        "\n",
        "plt.title(\"Nucleotide base frequency for Sequence C\")\n",
        "plt.bar(seqC_freq.keys(), seqC_freq.values())\n",
        "plt.show()"
      ],
      "metadata": {
        "id": "Q1MY3XErRFtu"
      },
      "execution_count": null,
      "outputs": []
    },
    {
      "cell_type": "code",
      "source": [
        "from Bio.SeqUtils import gc_fraction\n",
        "\n",
        "seqA_GC = gc_fraction(seqA) * 100\n",
        "seqB_GC = gc_fraction(seqB) * 100\n",
        "seqC_GC = gc_fraction(seqC) * 100\n",
        "\n",
        "seqA_AT = 100 - seqA_GC\n",
        "seqB_AT = 100 - seqB_GC\n",
        "seqC_AT = 100 - seqC_GC\n",
        "\n",
        "print(f\"SeqA GC percentage: {seqA_GC:.2f}%, AT percentage {seqA_AT:.2f}%\")\n",
        "print(f\"SeqB GC percentage: {seqB_GC:.2f}%, AT percentage {seqB_AT:.2f}%\")\n",
        "print(f\"SeqC GC percentage: {seqC_GC:.2f}%, AT percentage {seqC_AT:.2f}%\")"
      ],
      "metadata": {
        "id": "YnQ3Ki9KSJ-L"
      },
      "execution_count": null,
      "outputs": []
    },
    {
      "cell_type": "code",
      "source": [
        "from Bio.SeqUtils import MeltingTemp as mt\n",
        "\n",
        "print('Melting temperature for seqA: ', mt.Tm_Wallace(seqA))\n",
        "print('Melting temperature for seqB: ', mt.Tm_Wallace(seqB))\n",
        "print('Melting temperature for seqC: ', mt.Tm_Wallace(seqC))"
      ],
      "metadata": {
        "colab": {
          "base_uri": "https://localhost:8080/",
          "height": 662
        },
        "id": "HZ1pFi9ITFoK",
        "outputId": "f30473bb-d48b-457b-f64d-3f5268f89329"
      },
      "execution_count": null,
      "outputs": [
        {
          "output_type": "error",
          "ename": "ModuleNotFoundError",
          "evalue": "No module named 'Bio'",
          "traceback": [
            "\u001b[0;31m---------------------------------------------------------------------------\u001b[0m",
            "\u001b[0;31mModuleNotFoundError\u001b[0m                       Traceback (most recent call last)",
            "\u001b[0;32m<ipython-input-4-31e57fd6676b>\u001b[0m in \u001b[0;36m<cell line: 0>\u001b[0;34m()\u001b[0m\n\u001b[0;32m----> 1\u001b[0;31m \u001b[0;32mfrom\u001b[0m \u001b[0mBio\u001b[0m\u001b[0;34m.\u001b[0m\u001b[0mSeqUtils\u001b[0m \u001b[0;32mimport\u001b[0m \u001b[0mMeltingTemp\u001b[0m \u001b[0;32mas\u001b[0m \u001b[0mmt\u001b[0m\u001b[0;34m\u001b[0m\u001b[0;34m\u001b[0m\u001b[0m\n\u001b[0m\u001b[1;32m      2\u001b[0m \u001b[0;34m\u001b[0m\u001b[0m\n\u001b[1;32m      3\u001b[0m \u001b[0mprint\u001b[0m\u001b[0;34m(\u001b[0m\u001b[0;34m'Melting temperature for seqA: '\u001b[0m\u001b[0;34m,\u001b[0m \u001b[0mmt\u001b[0m\u001b[0;34m.\u001b[0m\u001b[0mTm_Wallace\u001b[0m\u001b[0;34m(\u001b[0m\u001b[0mseqA\u001b[0m\u001b[0;34m)\u001b[0m\u001b[0;34m)\u001b[0m\u001b[0;34m\u001b[0m\u001b[0;34m\u001b[0m\u001b[0m\n\u001b[1;32m      4\u001b[0m \u001b[0mprint\u001b[0m\u001b[0;34m(\u001b[0m\u001b[0;34m'Melting temperature for seqB: '\u001b[0m\u001b[0;34m,\u001b[0m \u001b[0mmt\u001b[0m\u001b[0;34m.\u001b[0m\u001b[0mTm_Wallace\u001b[0m\u001b[0;34m(\u001b[0m\u001b[0mseqB\u001b[0m\u001b[0;34m)\u001b[0m\u001b[0;34m)\u001b[0m\u001b[0;34m\u001b[0m\u001b[0;34m\u001b[0m\u001b[0m\n\u001b[1;32m      5\u001b[0m \u001b[0mprint\u001b[0m\u001b[0;34m(\u001b[0m\u001b[0;34m'Melting temperature for seqC: '\u001b[0m\u001b[0;34m,\u001b[0m \u001b[0mmt\u001b[0m\u001b[0;34m.\u001b[0m\u001b[0mTm_Wallace\u001b[0m\u001b[0;34m(\u001b[0m\u001b[0mseqC\u001b[0m\u001b[0;34m)\u001b[0m\u001b[0;34m)\u001b[0m\u001b[0;34m\u001b[0m\u001b[0;34m\u001b[0m\u001b[0m\n",
            "\u001b[0;31mModuleNotFoundError\u001b[0m: No module named 'Bio'",
            "",
            "\u001b[0;31m---------------------------------------------------------------------------\u001b[0;32m\nNOTE: If your import is failing due to a missing package, you can\nmanually install dependencies using either !pip or !apt.\n\nTo view examples of installing some common dependencies, click the\n\"Open Examples\" button below.\n\u001b[0;31m---------------------------------------------------------------------------\u001b[0m\n"
          ],
          "errorDetails": {
            "actions": [
              {
                "action": "open_url",
                "actionText": "Open Examples",
                "url": "/notebooks/snippets/importing_libraries.ipynb"
              }
            ]
          }
        }
      ]
    },
    {
      "cell_type": "code",
      "source": [
        "from Bio.SeqUtils import molecular_weight\n",
        "\n",
        "print('Molecular weight for seqA: ', molecular_weight(seqA))\n",
        "print('Molecular weight for seqB: ', molecular_weight(seqB))\n",
        "print('Molecular weight for seqC: ', molecular_weight(seqC))"
      ],
      "metadata": {
        "id": "taadu3i9TeEO"
      },
      "execution_count": null,
      "outputs": []
    },
    {
      "cell_type": "code",
      "source": [
        "mRNA_seqA = seqA.transcribe()\n",
        "mRNA_seqB = seqB.transcribe()\n",
        "mRNA_seqC = seqC.transcribe()\n",
        "\n",
        "print(\"mRNA of seqA: \", mRNA_seqA)\n",
        "print(\"mRNA of seqB: \", mRNA_seqB)\n",
        "print(\"mRNA of seqC: \", mRNA_seqC)"
      ],
      "metadata": {
        "id": "-0aJLVilYKiT"
      },
      "execution_count": null,
      "outputs": []
    },
    {
      "cell_type": "code",
      "source": [
        "amino_seqA = mRNA_seqA.translate()\n",
        "amino_seqB = mRNA_seqB.translate()\n",
        "amino_seqC = mRNA_seqC.translate()\n",
        "\n",
        "print(\"Amino acids of seqA: \", amino_seqA)\n",
        "print(\"Amino acids of seqB: \", amino_seqB)\n",
        "print(\"Amino acids of seqC: \", amino_seqC)"
      ],
      "metadata": {
        "id": "vsmt-Uc9ZIIj"
      },
      "execution_count": null,
      "outputs": []
    },
    {
      "cell_type": "code",
      "source": [
        "from Bio import pairwise2\n",
        "from Bio.pairwise2 import format_alignment\n",
        "\n",
        "alignment_seqA = pairwise2.align.localxx(seqA, 'CGCTACTAGCATGCGCAT')\n",
        "\n",
        "top_alignment = alignment_seqA[0]\n",
        "print(format_alignment(*top_alignment))\n",
        "\n",
        "print(f\"Alignment of Seq A score: {top_alignment[2]}\")\n",
        "\n",
        "alignment_seqB = pairwise2.align.globalxx(seqB, 'CAGTGCGCTAGCAGCTACGTGTG')\n",
        "\n",
        "top_alignment = alignment_seqB[0]\n",
        "print(format_alignment(*top_alignment))\n",
        "\n",
        "print(f\"Alignment of Seq B score: {top_alignment[2]}\")"
      ],
      "metadata": {
        "id": "zDE59zlLZa7x"
      },
      "execution_count": null,
      "outputs": []
    },
    {
      "cell_type": "code",
      "source": [
        "from Levenshtein import distance\n",
        "\n",
        "print('Levenshtein distance of Seq A and Seq B:', distance(seqA, seqB))"
      ],
      "metadata": {
        "colab": {
          "base_uri": "https://localhost:8080/",
          "height": 610
        },
        "id": "-QbaK-THahIn",
        "outputId": "36e47f86-bf25-4154-f7c8-fe97270343a3"
      },
      "execution_count": null,
      "outputs": [
        {
          "output_type": "error",
          "ename": "ModuleNotFoundError",
          "evalue": "No module named 'Levenshtein'",
          "traceback": [
            "\u001b[0;31m---------------------------------------------------------------------------\u001b[0m",
            "\u001b[0;31mModuleNotFoundError\u001b[0m                       Traceback (most recent call last)",
            "\u001b[0;32m<ipython-input-5-e1857327ce57>\u001b[0m in \u001b[0;36m<cell line: 0>\u001b[0;34m()\u001b[0m\n\u001b[0;32m----> 1\u001b[0;31m \u001b[0;32mfrom\u001b[0m \u001b[0mLevenshtein\u001b[0m \u001b[0;32mimport\u001b[0m \u001b[0mdistance\u001b[0m\u001b[0;34m\u001b[0m\u001b[0;34m\u001b[0m\u001b[0m\n\u001b[0m\u001b[1;32m      2\u001b[0m \u001b[0;34m\u001b[0m\u001b[0m\n\u001b[1;32m      3\u001b[0m \u001b[0mprint\u001b[0m\u001b[0;34m(\u001b[0m\u001b[0;34m'Levenshtein distance of Seq A and Seq B:'\u001b[0m\u001b[0;34m,\u001b[0m \u001b[0mdistance\u001b[0m\u001b[0;34m(\u001b[0m\u001b[0mseqA\u001b[0m\u001b[0;34m,\u001b[0m \u001b[0mseqB\u001b[0m\u001b[0;34m)\u001b[0m\u001b[0;34m)\u001b[0m\u001b[0;34m\u001b[0m\u001b[0;34m\u001b[0m\u001b[0m\n",
            "\u001b[0;31mModuleNotFoundError\u001b[0m: No module named 'Levenshtein'",
            "",
            "\u001b[0;31m---------------------------------------------------------------------------\u001b[0;32m\nNOTE: If your import is failing due to a missing package, you can\nmanually install dependencies using either !pip or !apt.\n\nTo view examples of installing some common dependencies, click the\n\"Open Examples\" button below.\n\u001b[0;31m---------------------------------------------------------------------------\u001b[0m\n"
          ],
          "errorDetails": {
            "actions": [
              {
                "action": "open_url",
                "actionText": "Open Examples",
                "url": "/notebooks/snippets/importing_libraries.ipynb"
              }
            ]
          }
        }
      ]
    },
    {
      "cell_type": "code",
      "source": [
        "import Bio\n",
        "from Bio.Seq import Seq\n",
        "from Bio import SeqIO"
      ],
      "metadata": {
        "id": "lKhM8NyGu6la"
      },
      "execution_count": null,
      "outputs": []
    },
    {
      "cell_type": "code",
      "source": [
        "seqA = SeqIO.read(\"a.fasta\", \"fasta\")\n",
        "seqB = SeqIO.read(\"b.fasta\", \"fasta\")\n",
        "\n",
        "seqA = seqA.seq\n",
        "seqB = seqB.seq\n",
        "\n",
        "print(\"Seq A: \", seqA)\n",
        "print(\"Seq B: \", seqB)\n",
        "\n",
        "print(\"Length of Seq A: \", len(seqA))\n",
        "print(\"Length of Seq B: \", len(seqB))\n",
        "\n",
        "print(\"TAC first appears in Seq A on index: \", seqA.find(\"TAC\"))\n",
        "print(\"TAC first appears in Seq B on index: \", seqB.find(\"TAC\"))\n",
        "\n",
        "seqA_sliced = seqA[:10]\n",
        "seqB_sliced = seqB[-15:]\n",
        "\n",
        "seqC = (seqA_sliced + seqB_sliced)[::-1]\n",
        "print(\"Seq C: \", seqC)"
      ],
      "metadata": {
        "id": "un40XBmmvFzT"
      },
      "execution_count": null,
      "outputs": []
    },
    {
      "cell_type": "code",
      "source": [
        "import matplotlib.pyplot as plt\n",
        "from collections import Counter\n",
        "\n",
        "seqA_freq = Counter(seqA)\n",
        "plt.title(\"Nucleotide base frequency for Seq A\")\n",
        "plt.bar(seqA_freq.keys(), seqA_freq.values())\n",
        "plt.show()\n",
        "\n",
        "seqB_freq = Counter(seqB)\n",
        "plt.title(\"Nucleotide base frequency for Seq B\")\n",
        "plt.bar(seqB_freq.keys(), seqB_freq.values())\n",
        "plt.show()\n",
        "\n",
        "seqC_freq = Counter(seqC)\n",
        "plt.title(\"Nucleotide base frequency for Seq C\")\n",
        "plt.bar(seqC_freq.keys(), seqC_freq.values())\n",
        "plt.show()"
      ],
      "metadata": {
        "colab": {
          "base_uri": "https://localhost:8080/",
          "height": 349
        },
        "id": "foUwBlwdwVDs",
        "outputId": "6b20d51f-16a7-479a-8e62-0e3bda2d7ddd"
      },
      "execution_count": null,
      "outputs": [
        {
          "output_type": "error",
          "ename": "NameError",
          "evalue": "name 'seqA' is not defined",
          "traceback": [
            "\u001b[0;31m---------------------------------------------------------------------------\u001b[0m",
            "\u001b[0;31mNameError\u001b[0m                                 Traceback (most recent call last)",
            "\u001b[0;32m<ipython-input-6-99e4c2cbda16>\u001b[0m in \u001b[0;36m<cell line: 0>\u001b[0;34m()\u001b[0m\n\u001b[1;32m      2\u001b[0m \u001b[0;32mfrom\u001b[0m \u001b[0mcollections\u001b[0m \u001b[0;32mimport\u001b[0m \u001b[0mCounter\u001b[0m\u001b[0;34m\u001b[0m\u001b[0;34m\u001b[0m\u001b[0m\n\u001b[1;32m      3\u001b[0m \u001b[0;34m\u001b[0m\u001b[0m\n\u001b[0;32m----> 4\u001b[0;31m \u001b[0mseqA_freq\u001b[0m \u001b[0;34m=\u001b[0m \u001b[0mCounter\u001b[0m\u001b[0;34m(\u001b[0m\u001b[0mseqA\u001b[0m\u001b[0;34m)\u001b[0m\u001b[0;34m\u001b[0m\u001b[0;34m\u001b[0m\u001b[0m\n\u001b[0m\u001b[1;32m      5\u001b[0m \u001b[0mplt\u001b[0m\u001b[0;34m.\u001b[0m\u001b[0mtitle\u001b[0m\u001b[0;34m(\u001b[0m\u001b[0;34m\"Nucleotide base frequency for Seq A\"\u001b[0m\u001b[0;34m)\u001b[0m\u001b[0;34m\u001b[0m\u001b[0;34m\u001b[0m\u001b[0m\n\u001b[1;32m      6\u001b[0m \u001b[0mplt\u001b[0m\u001b[0;34m.\u001b[0m\u001b[0mpie\u001b[0m\u001b[0;34m(\u001b[0m\u001b[0mseqA_freq\u001b[0m\u001b[0;34m.\u001b[0m\u001b[0mkeys\u001b[0m\u001b[0;34m(\u001b[0m\u001b[0;34m)\u001b[0m\u001b[0;34m,\u001b[0m \u001b[0mseqA_freq\u001b[0m\u001b[0;34m.\u001b[0m\u001b[0mvalues\u001b[0m\u001b[0;34m(\u001b[0m\u001b[0;34m)\u001b[0m\u001b[0;34m)\u001b[0m\u001b[0;34m\u001b[0m\u001b[0;34m\u001b[0m\u001b[0m\n",
            "\u001b[0;31mNameError\u001b[0m: name 'seqA' is not defined"
          ]
        }
      ]
    },
    {
      "cell_type": "code",
      "source": [
        "from Bio.SeqUtils import gc_fraction\n",
        "\n",
        "seqA_GC = gc_fraction(seqA) * 100\n",
        "seqB_GC = gc_fraction(seqB) * 100\n",
        "seqC_GC = gc_fraction(seqC) * 100\n",
        "\n",
        "seqA_AT = 100 - seqA_GC\n",
        "seqB_AT = 100 - seqB_GC\n",
        "seqC_AT = 100 - seqC_GC\n",
        "\n",
        "print(f\"Seq A GC percentage: {seqA_GC:.2f}%, AT percetange: {seqA_AT:.2f}%\")\n",
        "print(f\"Seq B GC percentage: {seqB_GC:.2f}%, AT percetange: {seqB_AT:.2f}%\")\n",
        "print(f\"Seq C GC percentage: {seqC_GC:.2f}%, AT percetange: {seqC_AT:.2f}%\")"
      ],
      "metadata": {
        "id": "-O2ZAfcxxGa4"
      },
      "execution_count": null,
      "outputs": []
    },
    {
      "cell_type": "code",
      "source": [
        "from Bio.SeqUtils import MeltingTemp as mt\n",
        "\n",
        "print(\"Melting point of Seq A: \", mt.Tm_Wallace(seqA))\n",
        "print(\"Melting point of Seq B: \", mt.Tm_Wallace(seqB))\n",
        "print(\"Melting point of Seq C: \", mt.Tm_Wallace(seqC))\n",
        "\n",
        "from Bio.SeqUtils import molecular_weight\n",
        "\n",
        "print(\"Molecular weight of Seq A: \", molecular_weight(seqA))\n",
        "print(\"Molecular weight of Seq B: \", molecular_weight(seqB))\n",
        "print(\"Molecular weight of Seq C: \", molecular_weight(seqC))"
      ],
      "metadata": {
        "id": "IzoYi1zYy15K"
      },
      "execution_count": null,
      "outputs": []
    },
    {
      "cell_type": "code",
      "source": [
        "mRNA_seqA = seqA.transcribe()\n",
        "mRNA_seqB = seqB.transcribe()\n",
        "mRNA_seqC = seqC.transcribe()\n",
        "\n",
        "print(\"mRNA of Seq A: \", mRNA_seqA)\n",
        "print(\"mRNA of Seq B: \", mRNA_seqB)\n",
        "print(\"mRNA of Seq C: \", mRNA_seqC)\n",
        "\n",
        "amino_seqA = seqA.translate()\n",
        "amino_seqB = seqB.translate()\n",
        "amino_seqC = seqC.translate()\n",
        "\n",
        "print(\"Amino acids of Seq A: \", amino_seqA)\n",
        "print(\"Amino acids of Seq B: \", amino_seqB)\n",
        "print(\"Amino acids of Seq C: \", amino_seqC)"
      ],
      "metadata": {
        "id": "6b4iHZ6hzd2O"
      },
      "execution_count": null,
      "outputs": []
    },
    {
      "cell_type": "code",
      "source": [
        "from Bio import pairwise2\n",
        "from Bio.pairwise2 import format_alignment\n",
        "\n",
        "alignment_seqA = pairwise2.align.localxx(seqA, \"CGCTACTAGCATGCGCAT\")\n",
        "top_alignment = alignment_seqA[0]\n",
        "print(format_alignment(*top_alignment))\n",
        "print(\"Alignment of Seq A score: \", top_alignment[2])\n",
        "\n",
        "alignment_seqB = pairwise2.align.globalxx(seqB, \"CAGTGCGCTAGCAGCTACGTGTG\")\n",
        "top_alignment = alignment_seqB[0]\n",
        "print(format_alignment(*top_alignment))\n",
        "print(\"Alignment of Seq B score: \", top_alignment[2])"
      ],
      "metadata": {
        "id": "YqKIyumKz3TM"
      },
      "execution_count": null,
      "outputs": []
    },
    {
      "cell_type": "code",
      "source": [
        "from Levenshtein import distance\n",
        "\n",
        "print(\"Levenshtein of Seq A and Seq B: \", distance(seqA, seqB))"
      ],
      "metadata": {
        "id": "2TLMj5Zq07Ru"
      },
      "execution_count": null,
      "outputs": []
    }
  ]
}